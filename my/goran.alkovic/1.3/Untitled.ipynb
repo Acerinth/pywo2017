{
 "cells": [
  {
   "cell_type": "markdown",
   "metadata": {
    "collapsed": true
   },
   "source": [
    "%%writefile pointvektor.py\n",
    "\n",
    "class Point():\n",
    "    \n",
    "    # class varijabla (statička)\n",
    "    dim = 2\n",
    "    \n",
    "    # konstruktor\n",
    "    def __init__(self, x, y):\n",
    "        self.x = x\n",
    "        self.y = y\n",
    "        \n",
    "        self.__privatna_metoda__()\n",
    "    \n",
    "    # reprezentacija\n",
    "    def __repr__(self):\n",
    "        return \"Točka (\" + str(self.x) + \", \" + str(self.y) + \")\"\n",
    "    \n",
    "    # translacija\n",
    "    def translate(self, vektor):\n",
    "        return self >> vektor\n",
    "    \n",
    "    def __rshift__(self, vektor):\n",
    "        return Point(self.x + vektor.x, self.y + vektor.y)\n",
    "    \n",
    "    # privatna metoda\n",
    "    def __privatna_metoda__(self):\n",
    "        pass\n",
    "    \n",
    "    # statička metoda\n",
    "    @staticmethod\n",
    "    def staticka_metoda():\n",
    "        print(\"Pozvana statička metoda\")\n",
    "        \n",
    "    # dekorator - isto kao i @staticmethod  \n",
    "    # staticka_metoda = staticmethod(staticka_metoda)\n",
    "    \n",
    "class Vektor(Point):\n",
    "    \n",
    "    # zbrajanje\n",
    "    def __add__(self, other):\n",
    "        return Vektor(self.x + other.x, self.y + other.y)\n",
    "            \n",
    "    # skalarni produkt    \n",
    "    def __mul__(self, other):\n",
    "        return self.x * other.x + self.y * other.y\n",
    "    \n",
    "    # representation\n",
    "    def __repr__(self):\n",
    "        return \"Vektor ({0}, {1})\".format(self.x, self.y)\n",
    "    \n",
    "    # desno množenje\n",
    "    def __rmul__(self, skalar):\n",
    "        return Vektor(self.x * skalar, self.y * skalar)\n",
    "    \n",
    "    # HTML reprezentacija\n",
    "    def _repr_html_(self):\n",
    "        return \"$({0}, {1})$\".format(self.x, self.y)"
   ]
  },
  {
   "cell_type": "code",
   "execution_count": 26,
   "metadata": {
    "collapsed": true
   },
   "outputs": [],
   "source": [
    "#from pointvektor import *\n",
    "from pointvektor import Point, Vektor"
   ]
  },
  {
   "cell_type": "code",
   "execution_count": 17,
   "metadata": {
    "collapsed": true
   },
   "outputs": [],
   "source": [
    "u = Vektor(0,1)\n",
    "v = Vektor(1,0)\n",
    "P = Point(2,3)"
   ]
  },
  {
   "cell_type": "code",
   "execution_count": 18,
   "metadata": {},
   "outputs": [
    {
     "data": {
      "text/html": [
       "$(0, 1)$"
      ],
      "text/plain": [
       "Vektor (0, 1)"
      ]
     },
     "execution_count": 18,
     "metadata": {},
     "output_type": "execute_result"
    }
   ],
   "source": [
    "u"
   ]
  },
  {
   "cell_type": "code",
   "execution_count": 19,
   "metadata": {},
   "outputs": [
    {
     "data": {
      "text/plain": [
       "Točka (2, 4)"
      ]
     },
     "execution_count": 19,
     "metadata": {},
     "output_type": "execute_result"
    }
   ],
   "source": [
    "P >> u\n",
    "P.translate(u)"
   ]
  },
  {
   "cell_type": "code",
   "execution_count": 20,
   "metadata": {
    "collapsed": true
   },
   "outputs": [],
   "source": [
    "#dir(P)"
   ]
  },
  {
   "cell_type": "markdown",
   "metadata": {
    "collapsed": true
   },
   "source": [
    "### Ne raditi\n",
    "```Vektor.dim = 3```"
   ]
  },
  {
   "cell_type": "code",
   "execution_count": 21,
   "metadata": {},
   "outputs": [
    {
     "data": {
      "text/plain": [
       "2"
      ]
     },
     "execution_count": 21,
     "metadata": {},
     "output_type": "execute_result"
    }
   ],
   "source": [
    "Point.dim"
   ]
  },
  {
   "cell_type": "code",
   "execution_count": 22,
   "metadata": {},
   "outputs": [
    {
     "name": "stdout",
     "output_type": "stream",
     "text": [
      "Pozvana statička metoda\n"
     ]
    }
   ],
   "source": [
    "Point.staticka_metoda()"
   ]
  },
  {
   "cell_type": "code",
   "execution_count": 23,
   "metadata": {},
   "outputs": [
    {
     "name": "stdout",
     "output_type": "stream",
     "text": [
      "Pozvana statička metoda\n"
     ]
    }
   ],
   "source": [
    "Vektor.staticka_metoda()"
   ]
  },
  {
   "cell_type": "markdown",
   "metadata": {},
   "source": [
    " \n",
    "Možemo nasljeđivati _built-in_ -ove\n",
    " "
   ]
  },
  {
   "cell_type": "code",
   "execution_count": 24,
   "metadata": {
    "collapsed": true
   },
   "outputs": [],
   "source": [
    "class MojRjecnik(dict):\n",
    "    pass"
   ]
  }
 ],
 "metadata": {
  "kernelspec": {
   "display_name": "Python 3",
   "language": "python",
   "name": "python3"
  },
  "language_info": {
   "codemirror_mode": {
    "name": "ipython",
    "version": 3
   },
   "file_extension": ".py",
   "mimetype": "text/x-python",
   "name": "python",
   "nbconvert_exporter": "python",
   "pygments_lexer": "ipython3",
   "version": "3.6.1"
  }
 },
 "nbformat": 4,
 "nbformat_minor": 2
}
