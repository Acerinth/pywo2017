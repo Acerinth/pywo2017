{
 "cells": [
  {
   "cell_type": "markdown",
   "metadata": {},
   "source": [
    "# Excel čitanje i pisanje\n",
    "* (barem) 5x5 tablica\n",
    "* ispisati u excel file (.xlsx)\n",
    "* pročitati 1. worksheet zadanog excel dokumenta\n",
    "* strukturirati i formatirati ispis prethodne točke"
   ]
  },
  {
   "cell_type": "code",
   "execution_count": null,
   "metadata": {
    "collapsed": true
   },
   "outputs": [],
   "source": [
    "import xlrd"
   ]
  },
  {
   "cell_type": "code",
   "execution_count": null,
   "metadata": {
    "collapsed": true
   },
   "outputs": [],
   "source": [
    "import xlwt"
   ]
  },
  {
   "cell_type": "markdown",
   "metadata": {},
   "source": [
    "* 2D lista\n",
    "* naći snippet za zapisivanje u .xlsx file"
   ]
  },
  {
   "cell_type": "code",
   "execution_count": null,
   "metadata": {},
   "outputs": [],
   "source": [
    "from pprint import pprint\n",
    "from random import random as rnd\n",
    "\n",
    "LL = [[rnd()] for _ in range(3) for _ in range(4)]\n",
    "pprint(LL)"
   ]
  },
  {
   "cell_type": "code",
   "execution_count": null,
   "metadata": {
    "collapsed": true
   },
   "outputs": [],
   "source": [
    "listdata = [[x for x in range(5)] for y in range(4)]\n",
    "book = xlwt.Workbook(encoding=\"utf-8\")\n",
    "sheet1 = book.add_sheet(\"Sheet 1\")\n",
    "\n",
    "for i, l in enumerate(listdata):\n",
    "    for j, col in enumerate(l):\n",
    "        sheet1.write(i, j, col)\n",
    "        \n",
    "book.save(\"knjiga.xls\")"
   ]
  },
  {
   "cell_type": "code",
   "execution_count": null,
   "metadata": {
    "collapsed": true
   },
   "outputs": [],
   "source": [
    "import pandas as pd"
   ]
  },
  {
   "cell_type": "code",
   "execution_count": null,
   "metadata": {},
   "outputs": [],
   "source": [
    "df = pd.read_excel(\"knjiga.xls\")\n",
    "df"
   ]
  },
  {
   "cell_type": "markdown",
   "metadata": {},
   "source": [
    "# Drugi zadatak - dio 2\n",
    "<p style=\"font-size: 18px; margin-left: 38px; margin-bottom: 40px;\">_Ispis Excel filea u konzoli s formatiranim ispisom_</p>\n",
    "\n",
    "```python\n",
    "IspisTablice(filename, max_rows = -1, max_columns = -1, max_cell_length = \"-1\", verbose = \"false\")\n",
    "```\n",
    "* `filename` \n",
    "   <br> Ime datoteke koju otvaramo \\vspace{-1mm}\n",
    "   ___obavezno___\n",
    "   \\vspace{2mm}\n",
    "* `max_rows` \n",
    "    <br> Broj redaka koji će se ispisati, ostali će biti označeni s ...\n",
    "    \\vspace{-0.15mm} _Default **-1** (bez skraćivanja)_\n",
    "    \\vspace{2mm}\n",
    "* `max_columns` \n",
    "    <br> Broj stupaca koji će se ispisati, ostali će biti označeni s ...\n",
    "    \\vspace{-0.15mm} _Default: **-1** (bez skraćivanja)_\n",
    "    \\vspace{2mm}\n",
    "* `max_cell_length` \n",
    "    <br> Ograničenje broja znakova u ćeliji, skraćene ćelije se označavaju s ...\n",
    "    \\vspace{-0.15mm} _Default: **-1** (bez skraćivanja)_\n",
    "    \\vspace{2mm}\n",
    "* `verbose`\n",
    "    <br> Informativni ispis pri otvaranju datoteke i prikaz imena radnog lista\n",
    "    \\vspace{-0.15mm} _Default: **false** (isključeno)_\n"
   ]
  },
  {
   "cell_type": "code",
   "execution_count": 1,
   "metadata": {},
   "outputs": [
    {
     "name": "stdout",
     "output_type": "stream",
     "text": [
      "Writing ispisExcela.py\n"
     ]
    }
   ],
   "source": [
    "%%writefile ispisExcela.py\n",
    "# Biblioteke\n",
    "from xlrd import open_workbook\n",
    "from tabulate import tabulate\n",
    "from math import ceil\n",
    "import itertools\n",
    "\n",
    "def IspisTablice(filename, max_rows = -1, max_columns = -1, max_cell_length = \"-1\", verbose = \"false\"):\n",
    "    # Učitavanje Excel filea\n",
    "    knjiga = open_workbook(filename)\n",
    "    firstSheet = knjiga.sheet_by_index(0) \n",
    "    if verbose == \"true\":\n",
    "        print (\"[i] Otvorena je datoteka {0}\\n\".format(filename))\n",
    "\n",
    "    # Globalne varijable\n",
    "    maxRows = max_rows\n",
    "    maxColumns = max_columns\n",
    "    maxChars = 0\n",
    "    truncate = max_cell_length\n",
    "    if (truncate != \"-1\"):\n",
    "        maxChars = int(truncate)\n",
    "\n",
    "    # Handleanje overflowa\n",
    "    # (da se ne prikazuje cijela tablica ako je velika)\n",
    "    numRows = firstSheet.nrows\n",
    "    numColumns = firstSheet.ncols\n",
    "    if numRows > maxRows and maxRows != -1:\n",
    "        numRows = maxRows\n",
    "\n",
    "    if numColumns > maxColumns and maxColumns != -1:\n",
    "        numColumns = maxColumns\n",
    "\n",
    "    # Za sadržaj datoteke\n",
    "    workSheet = []\n",
    "\n",
    "    # Za brojanje stupaca\n",
    "    broj = 1\n",
    "    # Prvi stupac tablice (slovčane oznake)\n",
    "    abeceda = [\"A\",\"B\",\"C\",\"D\",\"E\",\"F\",\"G\",\"H\",\"I\",\"J\",\"K\",\"L\",\"M\",\"N\",\"O\",\"P\",\"Q\",\"R\",\"S\",\"T\",\"U\",\"V\",\"W\",\"X\",\"Y\",\"Z\"]\n",
    "    if numColumns > 25:\n",
    "        slova = []\n",
    "        for num in range(int(ceil(numColumns/25))):\n",
    "            slova += [''.join(i) for i in itertools.product(abeceda, repeat = num)]\n",
    "    else:\n",
    "        slova = []\n",
    "        slova = [''.join(i) for i in itertools.product(abeceda, repeat = 1)]\n",
    "    slova = slova[0:numColumns]\n",
    "    prviStupac = [\"\"]\n",
    "    \n",
    "    for i in range(numColumns):\n",
    "        prviStupac.append(slova[i])    \n",
    "    workSheet.append(prviStupac)\n",
    "\n",
    "    # Spremanje sadržaja datoteke u listu\n",
    "    for row in range (numRows):\n",
    "        currentRow = []\n",
    "        # Oznaka retka\n",
    "        currentRow.append(str(broj))\n",
    "        for column in range (numColumns):\n",
    "            if truncate != \"-1\" and len(str(firstSheet.cell(row, column).value)) > maxChars:\n",
    "                currentRow.append(str(firstSheet.cell(row, column).value)[:maxChars] + \"...\")\n",
    "            else:\n",
    "                currentRow.append(firstSheet.cell(row, column).value)\n",
    "        if (firstSheet.nrows > maxRows and maxColumns != -1):\n",
    "            currentRow.append(\"...\")\n",
    "        broj += 1\n",
    "        workSheet.append(currentRow)\n",
    "\n",
    "    # Overflow handling - zadnji redak\n",
    "    zadnjiRedak = [\"\"]\n",
    "    for i in range(numColumns):\n",
    "        zadnjiRedak.append(\"...\")  \n",
    "    if (firstSheet.ncols > maxColumns and maxRows != -1):\n",
    "        workSheet.append(zadnjiRedak)\n",
    "\n",
    "    # Ispis radnog lista\n",
    "    if verbose == \"true\":\n",
    "        print(\"Sadržaj prvog lista (\\\"{0}\\\")\\n\".format(knjiga.sheet_by_index(0).name)) \n",
    "\n",
    "    print(tabulate(workSheet, tablefmt=\"grid\", floatfmt=\".2f\", stralign=\"center\", numalign=\"center\"))\n",
    "    \n",
    "\n",
    "a1 = input(\"Ime datoteke (s nastavkom): \")\n",
    "a2 = int(input(\"Koliko redaka da se ispiše (-1 za sve): \"))\n",
    "a3 = int(input(\"Koliko stupaca da se ispiše (-1 za sve): \"))\n",
    "a4 = int(input(\"Maksimalna duljina teksta u ćeliji (-1 za cijeli tekst): \"))\n",
    "IspisTablice(a1,a2,a3,a4,\"true\")\n",
    "#IspisTablice(\"knjiga.xls\", max_cell_length=\"5\", verbose=\"true\", max_columns=6)"
   ]
  }
 ],
 "metadata": {
  "kernelspec": {
   "display_name": "Python 3",
   "language": "python",
   "name": "python3"
  },
  "language_info": {
   "codemirror_mode": {
    "name": "ipython",
    "version": 3
   },
   "file_extension": ".py",
   "mimetype": "text/x-python",
   "name": "python",
   "nbconvert_exporter": "python",
   "pygments_lexer": "ipython3",
   "version": "3.6.1"
  },
  "latex_envs": {
   "LaTeX_envs_menu_present": true,
   "autocomplete": true,
   "bibliofile": "biblio.bib",
   "cite_by": "apalike",
   "current_citInitial": 1,
   "eqLabelWithNumbers": true,
   "eqNumInitial": 1,
   "hotkeys": {
    "equation": "Ctrl-E",
    "itemize": "Ctrl-I"
   },
   "labels_anchors": false,
   "latex_user_defs": false,
   "report_style_numbering": false,
   "user_envs_cfg": false
  },
  "toc": {
   "colors": {
    "hover_highlight": "#DAA520",
    "navigate_num": "#000000",
    "navigate_text": "#333333",
    "running_highlight": "#FF0000",
    "selected_highlight": "#FFD700",
    "sidebar_border": "#EEEEEE",
    "wrapper_background": "#FFFFFF"
   },
   "moveMenuLeft": true,
   "nav_menu": {
    "height": "31px",
    "width": "254px"
   },
   "navigate_menu": true,
   "number_sections": true,
   "sideBar": true,
   "threshold": 4,
   "toc_cell": false,
   "toc_section_display": "block",
   "toc_window_display": false,
   "widenNotebook": false
  }
 },
 "nbformat": 4,
 "nbformat_minor": 2
}
