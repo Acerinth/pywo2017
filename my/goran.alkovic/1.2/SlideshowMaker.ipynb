{
 "cells": [
  {
   "cell_type": "markdown",
   "metadata": {},
   "source": [
    "# SlideshowMaker"
   ]
  },
  {
   "cell_type": "code",
   "execution_count": 2,
   "metadata": {},
   "outputs": [
    {
     "name": "stdout",
     "output_type": "stream",
     "text": [
      "[i] Conversion successful\n",
      "[i] Starting presentation ...\n"
     ]
    },
    {
     "name": "stderr",
     "output_type": "stream",
     "text": [
      "[NbConvertApp] Converting notebook NewPresentation.ipynb to slides\n",
      "[NbConvertApp] Writing 323557 bytes to NewPresentation.slides.html\n",
      "[NbConvertApp] Redirecting reveal.js requests to https://cdnjs.cloudflare.com/ajax/libs/reveal.js/3.1.0\n",
      "Traceback (most recent call last):\n",
      "  File \"D:\\Anaconda3\\Scripts\\jupyter-nbconvert-script.py\", line 11, in <module>\n",
      "    load_entry_point('nbconvert==5.1.1', 'console_scripts', 'jupyter-nbconvert')()\n",
      "  File \"D:\\Anaconda3\\lib\\site-packages\\jupyter_core\\application.py\", line 267, in launch_instance\n",
      "    return super(JupyterApp, cls).launch_instance(argv=argv, **kwargs)\n",
      "  File \"D:\\Anaconda3\\lib\\site-packages\\traitlets\\config\\application.py\", line 658, in launch_instance\n",
      "    app.start()\n",
      "  File \"D:\\Anaconda3\\lib\\site-packages\\nbconvert\\nbconvertapp.py\", line 305, in start\n",
      "    self.convert_notebooks()\n",
      "  File \"D:\\Anaconda3\\lib\\site-packages\\nbconvert\\nbconvertapp.py\", line 473, in convert_notebooks\n",
      "    self.convert_single_notebook(notebook_filename)\n",
      "  File \"D:\\Anaconda3\\lib\\site-packages\\nbconvert\\nbconvertapp.py\", line 446, in convert_single_notebook\n",
      "    self.postprocess_single_notebook(write_results)\n",
      "  File \"D:\\Anaconda3\\lib\\site-packages\\nbconvert\\nbconvertapp.py\", line 418, in postprocess_single_notebook\n",
      "    self.postprocessor(write_results)\n",
      "  File \"D:\\Anaconda3\\lib\\site-packages\\nbconvert\\postprocessors\\base.py\", line 28, in __call__\n",
      "    self.postprocess(input)\n",
      "  File \"D:\\Anaconda3\\lib\\site-packages\\nbconvert\\postprocessors\\serve.py\", line 82, in postprocess\n",
      "    http_server.listen(self.port, address=self.ip)\n",
      "  File \"D:\\Anaconda3\\lib\\site-packages\\tornado\\tcpserver.py\", line 142, in listen\n",
      "    sockets = bind_sockets(port, address=address)\n",
      "  File \"D:\\Anaconda3\\lib\\site-packages\\tornado\\netutil.py\", line 197, in bind_sockets\n",
      "    sock.bind(sockaddr)\n",
      "OSError: [WinError 10048] Only one usage of each socket address (protocol/network address/port) is normally permitted\n"
     ]
    }
   ],
   "source": [
    "import json\n",
    "\n",
    "def ConvertToPresentation(filename, destinationName, startPresentation = \"false\"):\n",
    "    # Otvaranje datoteke\n",
    "    if \".ipynb\" not in filename:\n",
    "        filename += \".ipynb\"\n",
    "        \n",
    "    f = open(filename, encoding=\"utf8\")\n",
    "    data = json.load(f)\n",
    "    f.close()\n",
    "    \n",
    "    for d in data['cells']:\n",
    "        if \"'#\" in str(d):\n",
    "            if \"'##\" not in str(d):\n",
    "                d['metadata'] = {'slideshow': {'slide_type': 'slide'}}\n",
    "            elif \"'##\" in str(d) and \"'###\" not in str(d):\n",
    "                d['metadata'] = {'slideshow': {'slide_type': 'subslide'}}\n",
    "                \n",
    "\n",
    "    if \".ipynb\" not in destinationName:\n",
    "        destinationName += \".ipynb\"\n",
    "\n",
    "    output = open(destinationName, mode='w')\n",
    "    json.dump(data, output)\n",
    "    output.close()\n",
    "    print(\"[i] Conversion successful\")\n",
    "    \n",
    "    if startPresentation == \"true\":\n",
    "        print(\"[i] Starting presentation ...\")\n",
    "        !jupyter nbconvert $destinationName --to slides --post serve\n",
    "    \n",
    "ConvertToPresentation(\"SlideshowMaker_example.ipynb\", \"NewPresentation\", \"true\")"
   ]
  }
 ],
 "metadata": {
  "celltoolbar": "Slideshow",
  "kernelspec": {
   "display_name": "Python 3",
   "language": "python",
   "name": "python3"
  },
  "language_info": {
   "codemirror_mode": {
    "name": "ipython",
    "version": 3
   },
   "file_extension": ".py",
   "mimetype": "text/x-python",
   "name": "python",
   "nbconvert_exporter": "python",
   "pygments_lexer": "ipython3",
   "version": "3.6.1"
  },
  "latex_envs": {
   "LaTeX_envs_menu_present": true,
   "autocomplete": true,
   "bibliofile": "biblio.bib",
   "cite_by": "apalike",
   "current_citInitial": 1,
   "eqLabelWithNumbers": true,
   "eqNumInitial": 1,
   "hotkeys": {
    "equation": "Ctrl-E",
    "itemize": "Ctrl-I"
   },
   "labels_anchors": false,
   "latex_user_defs": false,
   "report_style_numbering": false,
   "user_envs_cfg": false
  },
  "toc": {
   "colors": {
    "hover_highlight": "#DAA520",
    "navigate_num": "#000000",
    "navigate_text": "#333333",
    "running_highlight": "#FF0000",
    "selected_highlight": "#FFD700",
    "sidebar_border": "#EEEEEE",
    "wrapper_background": "#FFFFFF"
   },
   "moveMenuLeft": true,
   "nav_menu": {
    "height": "17px",
    "width": "254px"
   },
   "navigate_menu": true,
   "number_sections": true,
   "sideBar": true,
   "threshold": 4,
   "toc_cell": false,
   "toc_section_display": "block",
   "toc_window_display": false,
   "widenNotebook": false
  }
 },
 "nbformat": 4,
 "nbformat_minor": 2
}
