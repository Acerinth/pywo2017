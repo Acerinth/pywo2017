{
 "cells": [
  {
   "cell_type": "code",
   "execution_count": 17,
   "metadata": {},
   "outputs": [
    {
     "name": "stdout",
     "output_type": "stream",
     "text": [
      "Overwriting setup.py\n"
     ]
    }
   ],
   "source": [
    "%%writefile setup.py\n",
    "from cx_Freeze import setup, Executable\n",
    "import os\n",
    "\n",
    "os.environ['TCL_LIBRARY'] = r'C:\\Program Files\\Python36\\tcl\\tcl8.6'\n",
    "os.environ['TK_LIBRARY'] = r'C:\\Program Files\\Python36\\tcl\\tk8.6'\n",
    "\n",
    "exe=Executable(\n",
    "     script=\"ispisExcela.py\",\n",
    "     base=\"Console\",\n",
    "     )\n",
    "includefiles=[\"testpodaci.xls\", \"knjiga.xls\", \"ispisExcela.py\"]\n",
    "packages=[]\n",
    "setup(\n",
    "\n",
    "     version = \"0.5\",\n",
    "     description = \"Program koji Excel datoteku ispisuje u konzolu\",\n",
    "     author = \"Goran Alković\",\n",
    "     name = \"ExcelToConsole\",\n",
    "     options = {'build_exe': {'packages':packages,'include_files':includefiles}},\n",
    "     executables = [exe]\n",
    "     )"
   ]
  }
 ],
 "metadata": {
  "kernelspec": {
   "display_name": "Python 3",
   "language": "python",
   "name": "python3"
  },
  "language_info": {
   "codemirror_mode": {
    "name": "ipython",
    "version": 3
   },
   "file_extension": ".py",
   "mimetype": "text/x-python",
   "name": "python",
   "nbconvert_exporter": "python",
   "pygments_lexer": "ipython3",
   "version": "3.6.1"
  },
  "latex_envs": {
   "LaTeX_envs_menu_present": true,
   "autocomplete": true,
   "bibliofile": "biblio.bib",
   "cite_by": "apalike",
   "current_citInitial": 1,
   "eqLabelWithNumbers": true,
   "eqNumInitial": 1,
   "hotkeys": {
    "equation": "Ctrl-E",
    "itemize": "Ctrl-I"
   },
   "labels_anchors": false,
   "latex_user_defs": false,
   "report_style_numbering": false,
   "user_envs_cfg": false
  },
  "toc": {
   "colors": {
    "hover_highlight": "#DAA520",
    "navigate_num": "#000000",
    "navigate_text": "#333333",
    "running_highlight": "#FF0000",
    "selected_highlight": "#FFD700",
    "sidebar_border": "#EEEEEE",
    "wrapper_background": "#FFFFFF"
   },
   "moveMenuLeft": true,
   "nav_menu": {
    "height": "4px",
    "width": "254px"
   },
   "navigate_menu": true,
   "number_sections": true,
   "sideBar": true,
   "threshold": 4,
   "toc_cell": false,
   "toc_section_display": "block",
   "toc_window_display": false,
   "widenNotebook": false
  }
 },
 "nbformat": 4,
 "nbformat_minor": 2
}
