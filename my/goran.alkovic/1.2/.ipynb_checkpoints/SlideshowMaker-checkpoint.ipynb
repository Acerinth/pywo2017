{
 "cells": [
  {
   "cell_type": "markdown",
   "metadata": {},
   "source": [
    "# SlideshowMaker"
   ]
  },
  {
   "cell_type": "code",
   "execution_count": null,
   "metadata": {},
   "outputs": [],
   "source": [
    "import json\n",
    "\n",
    "def ConvertToPresentation(filename, destinationName, startPresentation = \"false\"):\n",
    "    # Otvaranje datoteke\n",
    "    if \".ipynb\" not in filename:\n",
    "        filename += \".ipynb\"\n",
    "        \n",
    "    f = open(filename, encoding=\"utf8\")\n",
    "    data = json.load(f)\n",
    "    f.close()\n",
    "    \n",
    "    for d in data['cells']:\n",
    "        if \"'#\" in str(d):\n",
    "            if \"'##\" not in str(d):\n",
    "                d['metadata'] = {'slideshow': {'slide_type': 'slide'}}\n",
    "            elif \"'##\" in str(d) and \"'###\" not in str(d):\n",
    "                d['metadata'] = {'slideshow': {'slide_type': 'subslide'}}\n",
    "                \n",
    "\n",
    "    if \".ipynb\" not in destinationName:\n",
    "        destinationName += \".ipynb\"\n",
    "\n",
    "    output = open(destinationName, mode='w')\n",
    "    json.dump(data, output)\n",
    "    output.close()\n",
    "    print(\"[i] Conversion successful\")\n",
    "    \n",
    "    if startPresentation == \"true\":\n",
    "        print(\"[i] Starting presentation ...\")\n",
    "        !jupyter nbconvert $destinationName --to slides --post serve\n",
    "    \n",
    "ConvertToPresentation(\"SlideshowMaker_example.ipynb\", \"NewPresentation\", true)"
   ]
  }
 ],
 "metadata": {
  "celltoolbar": "Slideshow",
  "kernelspec": {
   "display_name": "Python 3",
   "language": "python",
   "name": "python3"
  },
  "language_info": {
   "codemirror_mode": {
    "name": "ipython",
    "version": 3
   },
   "file_extension": ".py",
   "mimetype": "text/x-python",
   "name": "python",
   "nbconvert_exporter": "python",
   "pygments_lexer": "ipython3",
   "version": "3.6.1"
  },
  "latex_envs": {
   "LaTeX_envs_menu_present": true,
   "autocomplete": true,
   "bibliofile": "biblio.bib",
   "cite_by": "apalike",
   "current_citInitial": 1,
   "eqLabelWithNumbers": true,
   "eqNumInitial": 1,
   "hotkeys": {
    "equation": "Ctrl-E",
    "itemize": "Ctrl-I"
   },
   "labels_anchors": false,
   "latex_user_defs": false,
   "report_style_numbering": false,
   "user_envs_cfg": false
  },
  "toc": {
   "colors": {
    "hover_highlight": "#DAA520",
    "navigate_num": "#000000",
    "navigate_text": "#333333",
    "running_highlight": "#FF0000",
    "selected_highlight": "#FFD700",
    "sidebar_border": "#EEEEEE",
    "wrapper_background": "#FFFFFF"
   },
   "moveMenuLeft": true,
   "nav_menu": {
    "height": "17px",
    "width": "254px"
   },
   "navigate_menu": true,
   "number_sections": true,
   "sideBar": true,
   "threshold": 4,
   "toc_cell": false,
   "toc_section_display": "block",
   "toc_window_display": false,
   "widenNotebook": false
  }
 },
 "nbformat": 4,
 "nbformat_minor": 2
}
