{
 "cells": [
  {
   "cell_type": "markdown",
   "metadata": {},
   "source": [
    "List comprehension"
   ]
  },
  {
   "cell_type": "code",
   "execution_count": 8,
   "metadata": {},
   "outputs": [],
   "source": [
    "L = [x**2 for x in range(10) if x >= 5]"
   ]
  },
  {
   "cell_type": "code",
   "execution_count": 9,
   "metadata": {},
   "outputs": [
    {
     "data": {
      "text/plain": [
       "[25, 36, 49, 64, 81]"
      ]
     },
     "execution_count": 9,
     "metadata": {},
     "output_type": "execute_result"
    }
   ],
   "source": [
    "L"
   ]
  },
  {
   "cell_type": "code",
   "execution_count": 10,
   "metadata": {
    "collapsed": true
   },
   "outputs": [],
   "source": [
    "text = \"\"\"U javnom sektoru, čini se, mnogi to ne razumiju. Njima se novac jednostavno magijom stvori svakog desetog na računu i apsolutno ih nije briga kako se do tog novca dolazi. Davno je barunica Thatcher rekla: „Ne postoji javni novac, postoji samo novac poreznih obveznika!“ \n",
    "Da hrvatski javni sektor shvaća tu jednostavnu istinu, onda se ne bi dogodilo da javni sektor, i to carina, prijeti mogućim štrajkom usred ljeta, u vrijeme kada dobar dio građana ove države doslovno prikuplja novac turista kako bi normalno preživjeli zimu.\n",
    "\n",
    "Turizam nam je postao iznimno važan. Dalmatinci od toga žive jer rentaju sve što imaju, Slavonci žive jer dolaze raditi kao sezonci. Pojednostavljeno, bez turizma ovo bi bila uvelike siromašnija zemlja, tek koji postotak iznad BiH i Srbije.\"\"\""
   ]
  },
  {
   "cell_type": "code",
   "execution_count": 11,
   "metadata": {},
   "outputs": [
    {
     "data": {
      "text/plain": [
       "'U javnom sektoru, čini se, mnogi to ne razumiju. Njima se novac jednostavno magijom stvori svakog desetog na računu i apsolutno ih nije briga kako se do tog novca dolazi. Davno je barunica Thatcher rekla: „Ne postoji javni novac, postoji samo novac poreznih obveznika!“ \\nDa hrvatski javni sektor shvaća tu jednostavnu istinu, onda se ne bi dogodilo da javni sektor, i to carina, prijeti mogućim štrajkom usred ljeta, u vrijeme kada dobar dio građana ove države doslovno prikuplja novac turista kako bi normalno preživjeli zimu.\\n\\nTurizam nam je postao iznimno važan. Dalmatinci od toga žive jer rentaju sve što imaju, Slavonci žive jer dolaze raditi kao sezonci. Pojednostavljeno, bez turizma ovo bi bila uvelike siromašnija zemlja, tek koji postotak iznad BiH i Srbije.'"
      ]
     },
     "execution_count": 11,
     "metadata": {},
     "output_type": "execute_result"
    }
   ],
   "source": [
    "text"
   ]
  },
  {
   "cell_type": "code",
   "execution_count": 34,
   "metadata": {},
   "outputs": [],
   "source": [
    "r = {}\n",
    "def broji(text):\n",
    "    sumaA = 0\n",
    "    sumaB = 0\n",
    "    sumaC = 0\n",
    "    for i in text:\n",
    "        if i == \"a\" or i == \"A\":\n",
    "            sumaA += 1\n",
    "        if i == \"b\" or i == \"B\":\n",
    "            sumaB += 1\n",
    "        if i == \"c\" or i == \"C\":\n",
    "            sumaC += 1\n",
    "    r[\"a\"] = sumaA\n",
    "    r[\"b\"] = sumaB\n",
    "    r[\"c\"] = sumaC\n",
    "    return r"
   ]
  },
  {
   "cell_type": "code",
   "execution_count": 35,
   "metadata": {},
   "outputs": [
    {
     "data": {
      "text/plain": [
       "{'a': 71, 'b': 11, 'c': 11}"
      ]
     },
     "execution_count": 35,
     "metadata": {},
     "output_type": "execute_result"
    }
   ],
   "source": [
    "broji(text)"
   ]
  },
  {
   "cell_type": "code",
   "execution_count": 85,
   "metadata": {},
   "outputs": [],
   "source": [
    "import collections\n",
    "d = {}\n",
    "def brojiSva(text):\n",
    "    for ch in text:\n",
    "        if ch in d:\n",
    "            d[ch] += 1  \n",
    "        else:\n",
    "            d[ch] = 1\n",
    "    od = collections.OrderedDict(sorted(d.items()))\n",
    "    #for k, v in od.items(): print(k, v)\n",
    "    return od"
   ]
  },
  {
   "cell_type": "code",
   "execution_count": 61,
   "metadata": {
    "collapsed": true
   },
   "outputs": [],
   "source": [
    "import string"
   ]
  },
  {
   "cell_type": "code",
   "execution_count": 62,
   "metadata": {},
   "outputs": [],
   "source": [
    "d = {}\n",
    "for ch in string.ascii_letters:\n",
    "    d[ch] = text.count(ch)"
   ]
  },
  {
   "cell_type": "code",
   "execution_count": 72,
   "metadata": {},
   "outputs": [
    {
     "data": {
      "text/plain": [
       "'Hello world'"
      ]
     },
     "execution_count": 72,
     "metadata": {},
     "output_type": "execute_result"
    }
   ],
   "source": [
    "\"Hello {0}\".format(\"world\")"
   ]
  },
  {
   "cell_type": "code",
   "execution_count": 78,
   "metadata": {},
   "outputs": [],
   "source": [
    "sorted?"
   ]
  },
  {
   "cell_type": "code",
   "execution_count": 82,
   "metadata": {},
   "outputs": [
    {
     "name": "stdout",
     "output_type": "stream",
     "text": [
      " a : 71 \n",
      " o : 67 \n",
      " i : 61 \n",
      " e : 46 \n",
      " n : 44 \n",
      " t : 33 \n",
      " r : 32 \n",
      " j : 30 \n",
      " v : 30 \n",
      " s : 28 \n",
      " m : 21 \n",
      " u : 21 \n",
      " d : 20 \n",
      " k : 19 \n",
      " l : 16 \n",
      " z : 13 \n",
      " c : 11 \n",
      " b : 10 \n",
      " g : 10 \n",
      " p : 10 \n",
      " h : 6 \n",
      " D : 3 \n",
      " N : 2 \n",
      " S : 2 \n",
      " T : 2 \n",
      " B : 1 \n",
      " H : 1 \n",
      " P : 1 \n",
      " U : 1 \n",
      " f : 0 \n",
      " q : 0 \n",
      " w : 0 \n",
      " x : 0 \n",
      " y : 0 \n",
      " A : 0 \n",
      " C : 0 \n",
      " E : 0 \n",
      " F : 0 \n",
      " G : 0 \n",
      " I : 0 \n",
      " J : 0 \n",
      " K : 0 \n",
      " L : 0 \n",
      " M : 0 \n",
      " O : 0 \n",
      " Q : 0 \n",
      " R : 0 \n",
      " V : 0 \n",
      " W : 0 \n",
      " X : 0 \n",
      " Y : 0 \n",
      " Z : 0 \n"
     ]
    }
   ],
   "source": [
    "for x in sorted(d.keys(), key = cmp_func, reverse=True):\n",
    "    out = \" {0} : {1} \".format(x, d[x])\n",
    "    print(out)"
   ]
  },
  {
   "cell_type": "code",
   "execution_count": 80,
   "metadata": {},
   "outputs": [],
   "source": [
    "cmp_func = lambda x:d[x]"
   ]
  },
  {
   "cell_type": "code",
   "execution_count": 86,
   "metadata": {},
   "outputs": [
    {
     "data": {
      "text/plain": [
       "OrderedDict([('\\n', 3),\n",
       "             (' ', 121),\n",
       "             ('!', 1),\n",
       "             (',', 10),\n",
       "             ('.', 6),\n",
       "             (':', 1),\n",
       "             ('B', 1),\n",
       "             ('D', 3),\n",
       "             ('H', 1),\n",
       "             ('N', 2),\n",
       "             ('P', 1),\n",
       "             ('S', 2),\n",
       "             ('T', 2),\n",
       "             ('U', 1),\n",
       "             ('a', 71),\n",
       "             ('b', 10),\n",
       "             ('c', 11),\n",
       "             ('d', 20),\n",
       "             ('e', 46),\n",
       "             ('g', 10),\n",
       "             ('h', 6),\n",
       "             ('i', 61),\n",
       "             ('j', 30),\n",
       "             ('k', 19),\n",
       "             ('l', 16),\n",
       "             ('m', 21),\n",
       "             ('n', 44),\n",
       "             ('o', 67),\n",
       "             ('p', 10),\n",
       "             ('r', 32),\n",
       "             ('s', 28),\n",
       "             ('t', 33),\n",
       "             ('u', 21),\n",
       "             ('v', 30),\n",
       "             ('z', 13),\n",
       "             ('ć', 2),\n",
       "             ('č', 2),\n",
       "             ('đ', 1),\n",
       "             ('š', 3),\n",
       "             ('ž', 5),\n",
       "             ('“', 1),\n",
       "             ('„', 1)])"
      ]
     },
     "execution_count": 86,
     "metadata": {},
     "output_type": "execute_result"
    }
   ],
   "source": [
    "brojiSva(text)"
   ]
  },
  {
   "cell_type": "code",
   "execution_count": 91,
   "metadata": {},
   "outputs": [],
   "source": [
    "A = set(string.ascii_letters)\n",
    "B = set(string.ascii_lowercase)"
   ]
  },
  {
   "cell_type": "code",
   "execution_count": 100,
   "metadata": {},
   "outputs": [
    {
     "data": {
      "text/plain": [
       "set"
      ]
     },
     "execution_count": 100,
     "metadata": {},
     "output_type": "execute_result"
    }
   ],
   "source": [
    "C = {1,2,3}\n",
    "type(C)"
   ]
  },
  {
   "cell_type": "code",
   "execution_count": 103,
   "metadata": {},
   "outputs": [
    {
     "data": {
      "text/plain": [
       "{-3: 9, -2: 4, -1: 1, 0: 0, 1: 1, 2: 4}"
      ]
     },
     "execution_count": 103,
     "metadata": {},
     "output_type": "execute_result"
    }
   ],
   "source": [
    "{x:x**2 for x in range (-3,3)}"
   ]
  }
 ],
 "metadata": {
  "kernelspec": {
   "display_name": "Python 3",
   "language": "python",
   "name": "python3"
  },
  "language_info": {
   "codemirror_mode": {
    "name": "ipython",
    "version": 3
   },
   "file_extension": ".py",
   "mimetype": "text/x-python",
   "name": "python",
   "nbconvert_exporter": "python",
   "pygments_lexer": "ipython3",
   "version": "3.6.1"
  }
 },
 "nbformat": 4,
 "nbformat_minor": 2
}
