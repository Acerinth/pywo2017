{
 "cells": [
  {
   "cell_type": "markdown",
   "metadata": {
    "slideshow": {
     "slide_type": "-"
    }
   },
   "source": [
    "<h1> NASLOV </h1>"
   ]
  },
  {
   "cell_type": "markdown",
   "metadata": {},
   "source": [
    "<h2> Podnaslov </h2>\n"
   ]
  },
  {
   "cell_type": "markdown",
   "metadata": {},
   "source": [
    "<p> Lorem ipsum dolor sit amet, consectetur adipiscing elit. Nunc tempus tempus lacus at eleifend. Sed nec neque sagittis, dapibus magna sed, mattis odio. Quisque tristique dignissim est, non accumsan enim mollis in. Donec non tincidunt neque, a consectetur dolor. Orci varius natoque penatibus et magnis dis parturient montes, nascetur ridiculus mus. Duis pellentesque sit amet tortor non lobortis. Maecenas ut fermentum erat. Quisque cursus rhoncus mi, molestie porta nisi tincidunt eu. Nam eget condimentum tortor.\n",
    "</p>\n"
   ]
  },
  {
   "cell_type": "code",
   "execution_count": 9,
   "metadata": {},
   "outputs": [
    {
     "name": "stdout",
     "output_type": "stream",
     "text": [
      "5\n"
     ]
    }
   ],
   "source": [
    "x = 2 + 3\n",
    "print(x)\n"
   ]
  },
  {
   "cell_type": "markdown",
   "metadata": {},
   "source": [
    "<h2> Podnaslov 2 </h2>\n"
   ]
  },
  {
   "cell_type": "markdown",
   "metadata": {},
   "source": [
    "<p>Lorem ipsum dolor sit amet, consectetur adipiscing elit. Nunc tempus tempus lacus at eleifend. Sed nec neque sagittis, dapibus magna sed, mattis odio. Quisque tristique dignissim est, non accumsan enim mollis in. Donec non tincidunt neque, a consectetur dolor. Orci varius natoque penatibus et magnis dis parturient montes, nascetur ridiculus mus. Duis pellentesque sit amet tortor non lobortis. Maecenas ut fermentum erat. Quisque cursus rhoncus mi, molestie porta nisi tincidunt eu. Nam eget condimentum tortor.\n",
    "</p>\n",
    "\n"
   ]
  },
  {
   "cell_type": "markdown",
   "metadata": {},
   "source": [
    "<h1> NOVI NASLOV </h1>"
   ]
  },
  {
   "cell_type": "markdown",
   "metadata": {},
   "source": [
    "<h2> Podnaslov 3 </h2>"
   ]
  },
  {
   "cell_type": "code",
   "execution_count": 13,
   "metadata": {},
   "outputs": [
    {
     "name": "stdout",
     "output_type": "stream",
     "text": [
      "╒════════╤═════════╤═════════╕\n",
      "│   Prvi │   Drugi │   Treci │\n",
      "╞════════╪═════════╪═════════╡\n",
      "│      1 │       2 │       3 │\n",
      "├────────┼─────────┼─────────┤\n",
      "│      4 │       5 │       6 │\n",
      "├────────┼─────────┼─────────┤\n",
      "│      7 │       8 │       9 │\n",
      "╘════════╧═════════╧═════════╛\n"
     ]
    }
   ],
   "source": [
    "from tabulate import tabulate\n",
    "\n",
    "head = [\"Prvi\",\"Drugi\",\"Treci\"]\n",
    "table = [[1,2,3],[4,5,6],[7,8,9]]\n",
    "print(tabulate(table,headers=head,tablefmt=\"fancy_grid\"))"
   ]
  }
 ],
 "metadata": {
  "celltoolbar": "Slideshow",
  "kernelspec": {
   "display_name": "Python 3",
   "language": "python",
   "name": "python3"
  },
  "language_info": {
   "codemirror_mode": {
    "name": "ipython",
    "version": 3
   },
   "file_extension": ".py",
   "mimetype": "text/x-python",
   "name": "python",
   "nbconvert_exporter": "python",
   "pygments_lexer": "ipython3",
   "version": "3.5.2"
  }
 },
 "nbformat": 4,
 "nbformat_minor": 2
}
