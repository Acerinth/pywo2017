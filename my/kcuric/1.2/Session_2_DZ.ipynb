{
 "cells": [
  {
   "cell_type": "markdown",
   "metadata": {},
   "source": [
    "<h1> Session_2: DZ upis/ispis .xls </h1>"
   ]
  },
  {
   "cell_type": "markdown",
   "metadata": {},
   "source": [
    "<h2> Ispis </h2>"
   ]
  },
  {
   "cell_type": "code",
   "execution_count": 4,
   "metadata": {
    "collapsed": true
   },
   "outputs": [],
   "source": [
    "import xlwt\n",
    "from random import randint\n",
    "\n",
    "\n",
    "bookWrite = xlwt.Workbook()\n",
    "sheetWrite = bookWrite.add_sheet(\"Sheet1\")\n",
    "#zaglavlje tablice\n",
    "sheetWrite.write(0,0,\"Rand Num (1,2)\")\n",
    "sheetWrite.write(0,1,\"Rand Num (1,3)\")\n",
    "sheetWrite.write(0,2,\"Rand Num (1,4)\")\n",
    "sheetWrite.write(0,3,\"Rand Num (1,5)\")\n",
    "\n",
    "#sadrzaj \n",
    "gornjaGranica = 2\n",
    "for iteracija in range(0,4):\n",
    "    lista = []\n",
    "    for i in range(1,11):\n",
    "        lista.append(randint(1,gornjaGranica))\n",
    "\n",
    "    for red in range(1,11):\n",
    "        sheetWrite.write(red,iteracija,lista[red-1])\n",
    "        \n",
    "    gornjaGranica += 1\n",
    "\n",
    "bookWrite.save(\"pisanje.xls\")"
   ]
  },
  {
   "cell_type": "markdown",
   "metadata": {},
   "source": [
    "<h2> Pandas </h2>"
   ]
  },
  {
   "cell_type": "code",
   "execution_count": 1,
   "metadata": {},
   "outputs": [
    {
     "data": {
      "text/html": [
       "<div>\n",
       "<style>\n",
       "    .dataframe thead tr:only-child th {\n",
       "        text-align: right;\n",
       "    }\n",
       "\n",
       "    .dataframe thead th {\n",
       "        text-align: left;\n",
       "    }\n",
       "\n",
       "    .dataframe tbody tr th {\n",
       "        vertical-align: top;\n",
       "    }\n",
       "</style>\n",
       "<table border=\"1\" class=\"dataframe\">\n",
       "  <thead>\n",
       "    <tr style=\"text-align: right;\">\n",
       "      <th></th>\n",
       "      <th>Rand Num (1,2)</th>\n",
       "      <th>Rand Num (1,3)</th>\n",
       "      <th>Rand Num (1,4)</th>\n",
       "      <th>Rand Num (1,5)</th>\n",
       "    </tr>\n",
       "  </thead>\n",
       "  <tbody>\n",
       "    <tr>\n",
       "      <th>0</th>\n",
       "      <td>1</td>\n",
       "      <td>3</td>\n",
       "      <td>4</td>\n",
       "      <td>1</td>\n",
       "    </tr>\n",
       "    <tr>\n",
       "      <th>1</th>\n",
       "      <td>1</td>\n",
       "      <td>2</td>\n",
       "      <td>4</td>\n",
       "      <td>3</td>\n",
       "    </tr>\n",
       "    <tr>\n",
       "      <th>2</th>\n",
       "      <td>1</td>\n",
       "      <td>3</td>\n",
       "      <td>1</td>\n",
       "      <td>3</td>\n",
       "    </tr>\n",
       "    <tr>\n",
       "      <th>3</th>\n",
       "      <td>1</td>\n",
       "      <td>3</td>\n",
       "      <td>3</td>\n",
       "      <td>3</td>\n",
       "    </tr>\n",
       "    <tr>\n",
       "      <th>4</th>\n",
       "      <td>1</td>\n",
       "      <td>3</td>\n",
       "      <td>4</td>\n",
       "      <td>5</td>\n",
       "    </tr>\n",
       "    <tr>\n",
       "      <th>5</th>\n",
       "      <td>1</td>\n",
       "      <td>3</td>\n",
       "      <td>3</td>\n",
       "      <td>5</td>\n",
       "    </tr>\n",
       "    <tr>\n",
       "      <th>6</th>\n",
       "      <td>2</td>\n",
       "      <td>1</td>\n",
       "      <td>1</td>\n",
       "      <td>5</td>\n",
       "    </tr>\n",
       "    <tr>\n",
       "      <th>7</th>\n",
       "      <td>1</td>\n",
       "      <td>1</td>\n",
       "      <td>2</td>\n",
       "      <td>4</td>\n",
       "    </tr>\n",
       "    <tr>\n",
       "      <th>8</th>\n",
       "      <td>2</td>\n",
       "      <td>3</td>\n",
       "      <td>3</td>\n",
       "      <td>3</td>\n",
       "    </tr>\n",
       "    <tr>\n",
       "      <th>9</th>\n",
       "      <td>2</td>\n",
       "      <td>1</td>\n",
       "      <td>1</td>\n",
       "      <td>4</td>\n",
       "    </tr>\n",
       "  </tbody>\n",
       "</table>\n",
       "</div>"
      ],
      "text/plain": [
       "   Rand Num (1,2)  Rand Num (1,3)  Rand Num (1,4)  Rand Num (1,5)\n",
       "0               1               3               4               1\n",
       "1               1               2               4               3\n",
       "2               1               3               1               3\n",
       "3               1               3               3               3\n",
       "4               1               3               4               5\n",
       "5               1               3               3               5\n",
       "6               2               1               1               5\n",
       "7               1               1               2               4\n",
       "8               2               3               3               3\n",
       "9               2               1               1               4"
      ]
     },
     "execution_count": 1,
     "metadata": {},
     "output_type": "execute_result"
    }
   ],
   "source": [
    "import pandas as pd \n",
    "df = pd.read_excel(\"pisanje.xls\") #df = data frame\n",
    "df"
   ]
  },
  {
   "cell_type": "markdown",
   "metadata": {},
   "source": [
    "<h2> Upis </h2>"
   ]
  },
  {
   "cell_type": "code",
   "execution_count": 24,
   "metadata": {
    "scrolled": true
   },
   "outputs": [
    {
     "name": "stdout",
     "output_type": "stream",
     "text": [
      "['Rand Num (1,2)', 'Rand Num (1,3)', 'Rand Num (1,4)', 'Rand Num (1,5)']\n",
      "{0: [1.0, 1.0, 1.0, 1.0, 1.0, 1.0, 2.0, 1.0, 2.0, 2.0], 1: [3.0, 2.0, 3.0, 3.0, 3.0, 3.0, 1.0, 1.0, 3.0, 1.0], 2: [4.0, 4.0, 1.0, 3.0, 4.0, 3.0, 1.0, 2.0, 3.0, 1.0], 3: [1.0, 3.0, 3.0, 3.0, 5.0, 5.0, 5.0, 4.0, 3.0, 4.0]}\n"
     ]
    }
   ],
   "source": [
    "import xlrd\n",
    "\n",
    "bookRead = xlrd.open_workbook(\"pisanje.xls\")\n",
    "sheet = bookRead.sheet_by_index(0)\n",
    "\n",
    "vrijednostiZaglavlja = (0,1,2,3)\n",
    "sadrzaj = {}\n",
    "\n",
    "zaglavlja = []\n",
    "for stupac in range(0,4):\n",
    "    temp = []\n",
    "    for red in range(0,11):\n",
    "        #ovo samo odvaja zaglavlja u posebnu listu\n",
    "        if((stupac in vrijednostiZaglavlja) and red == 0):\n",
    "            zaglavlja.append(sheet.cell_value(red,stupac))\n",
    "        else:\n",
    "            #sadrzaj se sprema u privremenu listu\n",
    "            temp.append(sheet.cell_value(red,stupac))\n",
    "    #privremena lista se dodaje rjecniku\n",
    "    sadrzaj[stupac] = temp\n",
    "            \n",
    "print(zaglavlja)\n",
    "print(sadrzaj)"
   ]
  }
 ],
 "metadata": {
  "kernelspec": {
   "display_name": "Python 3",
   "language": "python",
   "name": "python3"
  },
  "language_info": {
   "codemirror_mode": {
    "name": "ipython",
    "version": 3
   },
   "file_extension": ".py",
   "mimetype": "text/x-python",
   "name": "python",
   "nbconvert_exporter": "python",
   "pygments_lexer": "ipython3",
   "version": "3.5.2"
  }
 },
 "nbformat": 4,
 "nbformat_minor": 2
}
